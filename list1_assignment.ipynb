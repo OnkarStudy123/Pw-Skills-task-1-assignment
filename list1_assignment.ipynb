{
 "cells": [
  {
   "cell_type": "markdown",
   "id": "a27bdef4",
   "metadata": {},
   "source": [
    "Q1. Create a function which will take a list as an argument and return the product of all the numbers\n",
    "after creating a flat list.\n",
    "Use the below-given list as an argument for your function."
   ]
  },
  {
   "cell_type": "code",
   "execution_count": 1,
   "id": "7d12523f",
   "metadata": {},
   "outputs": [],
   "source": [
    "list1 = [1,2,3,4, [44,55,66, True], False, (34,56,78,89,34), {1,2,3,3,2,1}, {1:34, \"key2\": [55, 67, 78, 89], 4: (45,\n",
    "22, 61, 34)}, [56, 'data science'], 'Machine Learning']"
   ]
  },
  {
   "cell_type": "code",
   "execution_count": 9,
   "id": "c531ab35",
   "metadata": {},
   "outputs": [],
   "source": [
    "def product_1(list1):\n",
    "    product = 1\n",
    "    for item in list1:\n",
    "        if isinstance(item, (list, tuple, set)):\n",
    "            product *= product_1(item)\n",
    "        elif isinstance(item, dict):\n",
    "            product *= product_1(list(item.values()) + list(item.keys()))\n",
    "        elif isinstance(item, (int, float)):\n",
    "            product *= item\n",
    "    return product"
   ]
  },
  {
   "cell_type": "code",
   "execution_count": 13,
   "id": "a0deedbe",
   "metadata": {},
   "outputs": [
    {
     "name": "stdout",
     "output_type": "stream",
     "text": [
      "0\n"
     ]
    }
   ],
   "source": [
    "print(product_1(list1))"
   ]
  },
  {
   "cell_type": "code",
   "execution_count": null,
   "id": "3a348e2c",
   "metadata": {},
   "outputs": [],
   "source": []
  },
  {
   "cell_type": "markdown",
   "id": "986c40be",
   "metadata": {},
   "source": [
    "Q2. Q2. Write a python program for encrypting a message sent to you by your friend. The logic of encryption\n",
    "should be such that, for a the output should be z. For b, the output should be y. For c, the output should\n",
    "be x respectively. Also, the whitespace should be replaced with a dollar sign. Keep the punctuation\n",
    "marks unchanged.\n",
    "\n",
    "Input Sentence: I want to become a Data Scientist.\n",
    "\n",
    "Encrypt the above input sentence using the program you just created.\n",
    "\n",
    "Note: Convert the given input sentence into lowercase before encrypting. The final output should be\n",
    "lowercase."
   ]
  },
  {
   "cell_type": "code",
   "execution_count": 19,
   "id": "c4996ec6",
   "metadata": {},
   "outputs": [],
   "source": [
    "input_sentence = \"I want to become a Data Scientist.\""
   ]
  },
  {
   "cell_type": "code",
   "execution_count": 20,
   "id": "591ddd66",
   "metadata": {},
   "outputs": [],
   "source": [
    "def encrypt_message(message):\n",
    "    mapping = str.maketrans(\n",
    "        \"abcdefghijklmnopqrstuvwxyz \", \n",
    "        \"zyxwvutsrqponmlkjihgfedcba$\")\n",
    "    return message.lower().translate(mapping)"
   ]
  },
  {
   "cell_type": "code",
   "execution_count": 21,
   "id": "d2c2d5da",
   "metadata": {},
   "outputs": [
    {
     "data": {
      "text/plain": [
       "'r$dzmg$gl$yvxlnv$z$wzgz$hxrvmgrhg.'"
      ]
     },
     "execution_count": 21,
     "metadata": {},
     "output_type": "execute_result"
    }
   ],
   "source": [
    "encrypt_message(input_sentence)"
   ]
  },
  {
   "cell_type": "code",
   "execution_count": null,
   "id": "5accadf7",
   "metadata": {},
   "outputs": [],
   "source": []
  }
 ],
 "metadata": {
  "kernelspec": {
   "display_name": "Python 3 (ipykernel)",
   "language": "python",
   "name": "python3"
  },
  "language_info": {
   "codemirror_mode": {
    "name": "ipython",
    "version": 3
   },
   "file_extension": ".py",
   "mimetype": "text/x-python",
   "name": "python",
   "nbconvert_exporter": "python",
   "pygments_lexer": "ipython3",
   "version": "3.11.5"
  }
 },
 "nbformat": 4,
 "nbformat_minor": 5
}
